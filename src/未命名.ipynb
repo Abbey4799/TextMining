{
 "cells": [
  {
   "cell_type": "code",
   "execution_count": 111,
   "metadata": {},
   "outputs": [],
   "source": [
    "import os\n",
    "import time\n",
    "import numpy as np\n",
    "import pandas as pd\n",
    "from pandas import DataFrame,Series\n",
    "import seaborn as sns\n",
    "import matplotlib.pyplot as plt\n",
    "import csv\n",
    "import copy\n",
    "import logging"
   ]
  },
  {
   "cell_type": "code",
   "execution_count": 112,
   "metadata": {},
   "outputs": [],
   "source": [
    "input_path_aspect = '../raw_data/restaurants_aspect.csv'\n",
    "input_path_sentiment = '../raw_data/restaurants_sentiment.csv'"
   ]
  },
  {
   "cell_type": "code",
   "execution_count": 113,
   "metadata": {},
   "outputs": [],
   "source": [
    "aspect = pd.read_csv(input_path_aspect)\n",
    "# sentiment = pd.read_csv(input_path_sentiment)"
   ]
  },
  {
   "cell_type": "code",
   "execution_count": 114,
   "metadata": {},
   "outputs": [
    {
     "data": {
      "text/plain": [
       "(37589, 75)"
      ]
     },
     "execution_count": 114,
     "metadata": {},
     "output_type": "execute_result"
    }
   ],
   "source": [
    "aspect.shape"
   ]
  },
  {
   "cell_type": "code",
   "execution_count": 115,
   "metadata": {},
   "outputs": [
    {
     "data": {
      "text/plain": [
       "((20000, 74), (17589, 74), (20000, 1), (17589, 1))"
      ]
     },
     "execution_count": 115,
     "metadata": {},
     "output_type": "execute_result"
    }
   ],
   "source": [
    "dataTrain = aspect.iloc[:20000,:-1]\n",
    "dataTest = aspect.iloc[20000:,:-1]\n",
    "yTrain_o = aspect.iloc[:20000,-1:]\n",
    "yTest_o = aspect.iloc[20000:,-1:]\n",
    "dataTrain.shape, dataTest.shape, yTrain_o.shape, yTest_o.shape"
   ]
  },
  {
   "cell_type": "code",
   "execution_count": 116,
   "metadata": {},
   "outputs": [],
   "source": [
    "dataTrain = np.array(dataTrain)\n",
    "dataTest = np.array(dataTest)\n",
    "yTrain_o = np.array(yTrain_o)\n",
    "yTest_o = np.array(yTest_o)"
   ]
  },
  {
   "cell_type": "code",
   "execution_count": 117,
   "metadata": {},
   "outputs": [
    {
     "data": {
      "text/plain": [
       "(array([0, 0, 0, 0, 0, 0, 0, 0, 0, 0, 0, 0, 0, 0, 0, 0, 0, 0, 0, 1, 0, 0,\n",
       "        0, 0, 0, 0, 0, 0, 0, 0, 1, 0, 0, 0, 0, 0, 0, 0, 0, 0, 0, 0, 0, 0,\n",
       "        0, 0, 0, 0, 0, 0, 0, 0, 0, 0, 0, 0, 0, 0, 0, 0, 0, 0, 0, 0, 0, 0,\n",
       "        0, 0, 0, 0, 0, 0, 0, 0]), array(['NO'], dtype=object))"
      ]
     },
     "execution_count": 117,
     "metadata": {},
     "output_type": "execute_result"
    }
   ],
   "source": [
    "dataTrain[0], yTrain_o[0]"
   ]
  },
  {
   "cell_type": "code",
   "execution_count": 118,
   "metadata": {},
   "outputs": [],
   "source": [
    "yTrain = []\n",
    "for i in yTrain_o:\n",
    "    if i == 'NO':\n",
    "        yTrain.append([0,1])\n",
    "    else:\n",
    "        yTrain.append([1,0])\n",
    "yTrain = np.array(yTrain)\n",
    "\n",
    "yTest = []\n",
    "for i in yTest_o:\n",
    "    if i == 'NO':\n",
    "        yTest.append([0,1])\n",
    "    else:\n",
    "        yTest.append([1,0])\n",
    "yTest = np.array(yTest)"
   ]
  },
  {
   "cell_type": "code",
   "execution_count": 119,
   "metadata": {},
   "outputs": [
    {
     "data": {
      "text/plain": [
       "((20000, 2), (17589, 2))"
      ]
     },
     "execution_count": 119,
     "metadata": {},
     "output_type": "execute_result"
    }
   ],
   "source": [
    "yTrain.shape,yTest.shape"
   ]
  },
  {
   "cell_type": "code",
   "execution_count": 120,
   "metadata": {},
   "outputs": [
    {
     "data": {
      "text/plain": [
       "array([[0, 1],\n",
       "       [0, 1],\n",
       "       [0, 1],\n",
       "       [1, 0],\n",
       "       [1, 0],\n",
       "       [0, 1],\n",
       "       [1, 0],\n",
       "       [1, 0],\n",
       "       [0, 1],\n",
       "       [0, 1]])"
      ]
     },
     "execution_count": 120,
     "metadata": {},
     "output_type": "execute_result"
    }
   ],
   "source": [
    "yTrain[:10]"
   ]
  },
  {
   "cell_type": "code",
   "execution_count": 121,
   "metadata": {},
   "outputs": [
    {
     "data": {
      "text/plain": [
       "(20000, 17589, 74, 2)"
      ]
     },
     "execution_count": 121,
     "metadata": {},
     "output_type": "execute_result"
    }
   ],
   "source": [
    "numTrain = dataTrain.shape[0]\n",
    "numTest = dataTest.shape[0]\n",
    "numTerms = dataTrain.shape[1]\n",
    "numClasses = yTrain.shape[1]\n",
    "numTrain,numTest,numTerms,numClasses"
   ]
  },
  {
   "cell_type": "markdown",
   "metadata": {},
   "source": [
    "# preprocess"
   ]
  },
  {
   "cell_type": "code",
   "execution_count": 122,
   "metadata": {},
   "outputs": [
    {
     "data": {
      "text/plain": [
       "(74, 2)"
      ]
     },
     "execution_count": 122,
     "metadata": {},
     "output_type": "execute_result"
    }
   ],
   "source": [
    "'''\n",
    "fbridge: bridge object对于各个class的score; 初始化为0（对应fTerms）[numTerms * numClasses]\n",
    "yTrain: 就是yDoc的Train数据部分 [numTrain * numclasses]\n",
    "'''\n",
    "fbridge = np.zeros((numTerms,numClasses))\n",
    "fbridge.shape"
   ]
  },
  {
   "cell_type": "code",
   "execution_count": 123,
   "metadata": {},
   "outputs": [],
   "source": [
    "def normalize(Data):\n",
    "    newData = []\n",
    "    for i in Data:\n",
    "        newData.append(i/np.sum(i))\n",
    "    return np.array(newData)"
   ]
  },
  {
   "cell_type": "code",
   "execution_count": 129,
   "metadata": {},
   "outputs": [
    {
     "data": {
      "text/plain": [
       "'\\nlog_path = \"logs/.log\"\\nif not os.path.exists(\"logs/\"):\\n    utils.makedirs(\"logs/\")\\nlogger = get_logger(logpath=log_path)\\nlogger.info(str(time.asctime( time.localtime(time.time()) )))\\n'"
      ]
     },
     "execution_count": 129,
     "metadata": {},
     "output_type": "execute_result"
    }
   ],
   "source": [
    "def get_logger(logpath, package_files=[],\n",
    "\t\t\t   displaying=True, saving=True, debug=False):\n",
    "\tlogger = logging.getLogger()\n",
    "\tif debug:\n",
    "\t\tlevel = logging.DEBUG\n",
    "\telse:\n",
    "\t\tlevel = logging.INFO\n",
    "\tlogger.setLevel(level)\n",
    "\tif saving:\n",
    "\t\tinfo_file_handler = logging.FileHandler(logpath, mode='w')\n",
    "\t\tinfo_file_handler.setLevel(level)\n",
    "\t\tlogger.addHandler(info_file_handler)\n",
    "\tif displaying:\n",
    "\t\tconsole_handler = logging.StreamHandler()\n",
    "\t\tconsole_handler.setLevel(level)\n",
    "\t\tlogger.addHandler(console_handler)\n",
    "\n",
    "\tfor f in package_files:\n",
    "\t\tlogger.info(f)\n",
    "\t\twith open(f, 'r') as package_f:\n",
    "\t\t\tlogger.info(package_f.read())\n",
    "\n",
    "\treturn logger\n",
    "\n",
    "\n",
    "'''\n",
    "log_path = \"logs/.log\"\n",
    "if not os.path.exists(\"logs/\"):\n",
    "    utils.makedirs(\"logs/\")\n",
    "logger = get_logger(logpath=log_path)\n",
    "logger.info(str(time.asctime( time.localtime(time.time()) )))\n",
    "'''"
   ]
  },
  {
   "cell_type": "code",
   "execution_count": 130,
   "metadata": {},
   "outputs": [],
   "source": [
    "dataTrain = normalize(dataTrain)\n",
    "dataTest = normalize(dataTest)"
   ]
  },
  {
   "cell_type": "code",
   "execution_count": 131,
   "metadata": {},
   "outputs": [
    {
     "data": {
      "text/plain": [
       "array([[0. , 0. , 0. , 0. , 0. , 0. , 0. , 0. , 0. , 0. , 0. , 0. , 0. ,\n",
       "        0. , 0. , 0. , 0. , 0. , 0. , 0.5, 0. , 0. , 0. , 0. , 0. , 0. ,\n",
       "        0. , 0. , 0. , 0. , 0.5, 0. , 0. , 0. , 0. , 0. , 0. , 0. , 0. ,\n",
       "        0. , 0. , 0. , 0. , 0. , 0. , 0. , 0. , 0. , 0. , 0. , 0. , 0. ,\n",
       "        0. , 0. , 0. , 0. , 0. , 0. , 0. , 0. , 0. , 0. , 0. , 0. , 0. ,\n",
       "        0. , 0. , 0. , 0. , 0. , 0. , 0. , 0. , 0. ],\n",
       "       [0. , 0. , 0. , 0. , 0. , 0. , 0. , 0. , 0. , 0. , 0. , 0. , 0. ,\n",
       "        0. , 0. , 0. , 0. , 0. , 0. , 0. , 0. , 0. , 0. , 0. , 0. , 0. ,\n",
       "        0. , 0. , 0.5, 0. , 0. , 0. , 0. , 0. , 0. , 0. , 0. , 0. , 0. ,\n",
       "        0. , 0. , 0. , 0. , 0. , 0. , 0. , 0. , 0. , 0. , 0. , 0. , 0.5,\n",
       "        0. , 0. , 0. , 0. , 0. , 0. , 0. , 0. , 0. , 0. , 0. , 0. , 0. ,\n",
       "        0. , 0. , 0. , 0. , 0. , 0. , 0. , 0. , 0. ]])"
      ]
     },
     "execution_count": 131,
     "metadata": {},
     "output_type": "execute_result"
    }
   ],
   "source": [
    "dataTrain[:2]"
   ]
  },
  {
   "cell_type": "markdown",
   "metadata": {},
   "source": [
    "# TCHN"
   ]
  },
  {
   "cell_type": "code",
   "execution_count": 132,
   "metadata": {},
   "outputs": [],
   "source": [
    "class TCHN(object):\n",
    "    \n",
    "    def __init__(self,maxNumberGlobalIterations=100,maxNumberLocalIterations=100,errorCorrectionRate=0.1,minError=0.01):\n",
    "        self.maxNumberGlobalIterations = maxNumberGlobalIterations\n",
    "        self.maxNumberLocalIterations = maxNumberLocalIterations\n",
    "        self.errorCorrectionRate = errorCorrectionRate\n",
    "        self.minError = minError\n",
    "        self.numIterations = 0\n",
    "        \n",
    "    \n",
    "    def classifyInstance(self,weightMatrix):\n",
    "        '''\n",
    "        利用与sample相连的bridge objects的classvalue，更新该sample的class\n",
    "        input: [numTrain * numTerms] 一个sample的bridge objects\n",
    "        return: [numTrain * numclasses]\n",
    "        '''\n",
    "        \n",
    "        # equation 33\n",
    "        classes = np.dot(weightMatrix,fbridge)\n",
    "        \n",
    "        for i in classes:\n",
    "            # 如果classes[i]的值小于0，则集体偏移\n",
    "            if min(i) < 0:\n",
    "                i += abs(min(i))\n",
    "            i = i/np.sum(i)\n",
    "        \n",
    "        return classes\n",
    "        \n",
    "        \n",
    "    def classifyInstanceReal(self,weightMatrix):\n",
    "        '''\n",
    "        利用与sample相连的bridge objects的classvalue，更新该sample的class\n",
    "        input: [numTrain * numTerms] 一个sample的bridge objects\n",
    "        return: [numTrain * numclasses]\n",
    "        '''\n",
    "        \n",
    "        # equation 33\n",
    "        classes = np.dot(weightMatrix,fbridge)\n",
    "        \n",
    "        return classes \n",
    "        \n",
    "        \n",
    "    def train(self,fbridge):\n",
    "        log_path = \"logs/test.log\"\n",
    "        if not os.path.exists(\"logs/\"):\n",
    "            utils.makedirs(\"logs/\")\n",
    "        logger = get_logger(logpath=log_path)\n",
    "\n",
    "        exit = False\n",
    "        numIt = 0\n",
    "        numIterationsTotal = 0\n",
    "        while exit == False:\n",
    "            print(numIterationsTotal)\n",
    "            logger.info(str(numIterationsTotal))\n",
    "            logger.info(str(time.asctime( time.localtime(time.time()) )))\n",
    "            exit2 = False\n",
    "            numIterationsInternas = 0\n",
    "            \n",
    "#             print('First')\n",
    "            '''First Step: Optimizing class information of terms considering labeled documents'''\n",
    "            while exit2 == False:\n",
    "#                 print(numIt)\n",
    "                \n",
    "                estimatedClasses = self.classifyInstance(dataTrain)\n",
    "                error = yTrain - estimatedClasses\n",
    "                fbridge += self.errorCorrectionRate * np.dot(dataTrain.T,error)\n",
    "                \n",
    "                numIt += 1\n",
    "                numIterationsInternas += 1\n",
    "                \n",
    "                # error: [numTrain,numClasses]\n",
    "                error = pow(error,2)/2\n",
    "                meanError = np.sum(error)/numTrain\n",
    "                \n",
    "                if self.maxNumberLocalIterations == numIterationsInternas or meanError < self.minError:\n",
    "                    exit2 = True\n",
    "            \n",
    "#             print('Second')\n",
    "            '''Second Step: Propagating class information from terms to unlabeled documents'''\n",
    "             #基于term，将labeled的document的label传递给unlabeled的document\n",
    "            fTest = self.classifyInstance(dataTest)\n",
    "            acmDif = np.sum(abs(yTest - fTest))\n",
    "            \n",
    "            \n",
    "#             print('Third')\n",
    "            '''Third Step: Optimizing class information of terms considering the class information assigned to unlabeled documents'''\n",
    "            exit2 = False\n",
    "            numIterationsInternas = 0\n",
    "            while exit2 == False:\n",
    "#                 print(numIt)\n",
    "                \n",
    "                estimatedClasses = self.classifyInstanceReal(dataTest)\n",
    "                error = fTest - estimatedClasses\n",
    "                fbridge += self.errorCorrectionRate * np.dot(dataTest.T,error)\n",
    "                \n",
    "                numIt += 1\n",
    "                numIterationsInternas += 1\n",
    "                \n",
    "                # error: [numTrain,numClasses]\n",
    "                error = pow(error,2)/2\n",
    "                meanError = np.sum(error)/numTrain\n",
    "                \n",
    "                if self.maxNumberLocalIterations == numIterationsInternas or meanError < self.minError:\n",
    "                    exit2 = True\n",
    "                \n",
    "            numIterationsTotal += 1\n",
    "            numIt += 1\n",
    "            if acmDif == 0 or self.maxNumberGlobalIterations == numIterationsTotal:\n",
    "                exit = True\n",
    "    \n",
    "        self.numIterations = numIt\n",
    "        \n",
    "        '''Assingning labels to unlabaled documents'''\n",
    "        fTest = self.classifyInstance(dataTest)\n",
    "        \n",
    "        logger.info(str(fTest))\n",
    "        \n",
    "        return fTest"
   ]
  },
  {
   "cell_type": "code",
   "execution_count": null,
   "metadata": {},
   "outputs": [
    {
     "name": "stderr",
     "output_type": "stream",
     "text": [
      "0\n",
      "0\n",
      "Mon Jul 27 00:13:01 2020\n",
      "Mon Jul 27 00:13:01 2020\n"
     ]
    },
    {
     "name": "stdout",
     "output_type": "stream",
     "text": [
      "0\n"
     ]
    },
    {
     "name": "stderr",
     "output_type": "stream",
     "text": [
      "/root/anaconda3/lib/python3.7/site-packages/ipykernel_launcher.py:25: RuntimeWarning: invalid value encountered in true_divide\n",
      "1\n",
      "1\n",
      "Mon Jul 27 00:13:33 2020\n",
      "Mon Jul 27 00:13:33 2020\n"
     ]
    },
    {
     "name": "stdout",
     "output_type": "stream",
     "text": [
      "1\n"
     ]
    },
    {
     "name": "stderr",
     "output_type": "stream",
     "text": [
      "2\n",
      "2\n",
      "Mon Jul 27 00:14:05 2020\n",
      "Mon Jul 27 00:14:05 2020\n"
     ]
    },
    {
     "name": "stdout",
     "output_type": "stream",
     "text": [
      "2\n"
     ]
    },
    {
     "name": "stderr",
     "output_type": "stream",
     "text": [
      "3\n",
      "3\n",
      "Mon Jul 27 00:14:37 2020\n",
      "Mon Jul 27 00:14:37 2020\n"
     ]
    },
    {
     "name": "stdout",
     "output_type": "stream",
     "text": [
      "3\n"
     ]
    },
    {
     "name": "stderr",
     "output_type": "stream",
     "text": [
      "4\n",
      "4\n",
      "Mon Jul 27 00:15:09 2020\n",
      "Mon Jul 27 00:15:09 2020\n"
     ]
    },
    {
     "name": "stdout",
     "output_type": "stream",
     "text": [
      "4\n"
     ]
    },
    {
     "name": "stderr",
     "output_type": "stream",
     "text": [
      "5\n",
      "5\n",
      "Mon Jul 27 00:15:40 2020\n",
      "Mon Jul 27 00:15:40 2020\n"
     ]
    },
    {
     "name": "stdout",
     "output_type": "stream",
     "text": [
      "5\n"
     ]
    },
    {
     "name": "stderr",
     "output_type": "stream",
     "text": [
      "6\n",
      "6\n",
      "Mon Jul 27 00:16:12 2020\n",
      "Mon Jul 27 00:16:12 2020\n"
     ]
    },
    {
     "name": "stdout",
     "output_type": "stream",
     "text": [
      "6\n"
     ]
    },
    {
     "name": "stderr",
     "output_type": "stream",
     "text": [
      "7\n",
      "7\n",
      "Mon Jul 27 00:16:44 2020\n",
      "Mon Jul 27 00:16:44 2020\n"
     ]
    },
    {
     "name": "stdout",
     "output_type": "stream",
     "text": [
      "7\n"
     ]
    }
   ],
   "source": [
    "model = TCHN(maxNumberGlobalIterations=100,maxNumberLocalIterations=100)\n",
    "fTest = model.train(fbridge)"
   ]
  },
  {
   "cell_type": "code",
   "execution_count": null,
   "metadata": {},
   "outputs": [],
   "source": [
    "a = np.array([[1,2],[3,4]])\n",
    "b = pow(a,2)/2\n",
    "b"
   ]
  },
  {
   "cell_type": "code",
   "execution_count": null,
   "metadata": {},
   "outputs": [],
   "source": []
  }
 ],
 "metadata": {
  "kernelspec": {
   "display_name": "Python 3",
   "language": "python",
   "name": "python3"
  },
  "language_info": {
   "codemirror_mode": {
    "name": "ipython",
    "version": 3
   },
   "file_extension": ".py",
   "mimetype": "text/x-python",
   "name": "python",
   "nbconvert_exporter": "python",
   "pygments_lexer": "ipython3",
   "version": "3.7.3"
  }
 },
 "nbformat": 4,
 "nbformat_minor": 2
}
