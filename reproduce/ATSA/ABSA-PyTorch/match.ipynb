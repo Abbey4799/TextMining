{
 "metadata": {
  "language_info": {
   "codemirror_mode": {
    "name": "ipython",
    "version": 3
   },
   "file_extension": ".py",
   "mimetype": "text/x-python",
   "name": "python",
   "nbconvert_exporter": "python",
   "pygments_lexer": "ipython3",
   "version": "3.7.3-final"
  },
  "orig_nbformat": 2,
  "kernelspec": {
   "name": "python3",
   "display_name": "Python 3"
  }
 },
 "nbformat": 4,
 "nbformat_minor": 2,
 "cells": [
  {
   "cell_type": "code",
   "execution_count": 3,
   "metadata": {},
   "outputs": [],
   "source": [
    "from data_utils import pkl_dump, pkl_load"
   ]
  },
  {
   "cell_type": "code",
   "execution_count": 1,
   "metadata": {},
   "outputs": [],
   "source": [
    "ini_path = 'outcomes/'"
   ]
  },
  {
   "cell_type": "code",
   "execution_count": 33,
   "metadata": {},
   "outputs": [],
   "source": [
    "def tt(path):\n",
    "    test_path = path\n",
    "    test = pkl_load(ini_path, test_path)\n",
    "    print(test[-1])"
   ]
  },
  {
   "cell_type": "code",
   "execution_count": 34,
   "metadata": {},
   "outputs": [
    {
     "output_type": "stream",
     "name": "stdout",
     "text": [
      "(0.7411764705882353, 0.5071862024912168)\n"
     ]
    }
   ],
   "source": [
    "tt('test__2020.11.05-02:48:54') #Bert_spc1"
   ]
  },
  {
   "cell_type": "code",
   "execution_count": 35,
   "metadata": {},
   "outputs": [
    {
     "output_type": "stream",
     "name": "stdout",
     "text": [
      "(0.9529411764705882, 0.9273809523809522)\n"
     ]
    }
   ],
   "source": [
    "tt('test__2020.11.05-03:36:33') #Bert_spc2"
   ]
  },
  {
   "cell_type": "code",
   "execution_count": 38,
   "metadata": {},
   "outputs": [
    {
     "output_type": "stream",
     "name": "stdout",
     "text": [
      "(0.7529411764705882, 0.5106476884033985)\n"
     ]
    }
   ],
   "source": [
    "tt('test__2020.11.05-05:13:28') #lct_bert1"
   ]
  },
  {
   "cell_type": "code",
   "execution_count": 39,
   "metadata": {},
   "outputs": [
    {
     "output_type": "stream",
     "name": "stdout",
     "text": [
      "(0.9294117647058824, 0.8228351309707241)\n"
     ]
    }
   ],
   "source": [
    "tt('test__2020.11.05-06:47:50') #lct_bert2"
   ]
  },
  {
   "cell_type": "code",
   "execution_count": 40,
   "metadata": {},
   "outputs": [
    {
     "output_type": "stream",
     "name": "stdout",
     "text": [
      "(0.8, 0.6227104532839963)\n"
     ]
    }
   ],
   "source": [
    "tt('test__2020.11.05-07:13:30') #aen1"
   ]
  },
  {
   "cell_type": "code",
   "execution_count": 41,
   "metadata": {},
   "outputs": [
    {
     "output_type": "stream",
     "name": "stdout",
     "text": [
      "(0.9411764705882353, 0.8664041545397477)\n"
     ]
    }
   ],
   "source": [
    "tt('test__2020.11.05-07:38:41')#aen2"
   ]
  },
  {
   "source": [
    "# NON bert"
   ],
   "cell_type": "markdown",
   "metadata": {}
  },
  {
   "cell_type": "code",
   "execution_count": 42,
   "metadata": {},
   "outputs": [
    {
     "output_type": "stream",
     "name": "stdout",
     "text": [
      "(0.8117647058823529, 0.5608057430622523)\n"
     ]
    }
   ],
   "source": [
    "tt('test__2020.11.05-07:44:11') #mgan"
   ]
  },
  {
   "cell_type": "code",
   "execution_count": 44,
   "metadata": {},
   "outputs": [
    {
     "output_type": "stream",
     "name": "stdout",
     "text": [
      "(0.8352941176470589, 0.5802172670097198)\n"
     ]
    }
   ],
   "source": [
    "tt('test__2020.11.05-07:46:59') #aoa"
   ]
  },
  {
   "cell_type": "code",
   "execution_count": 46,
   "metadata": {},
   "outputs": [
    {
     "output_type": "stream",
     "name": "stdout",
     "text": [
      "(0.8117647058823529, 0.5590667119719107)\n"
     ]
    }
   ],
   "source": [
    "tt('test__2020.11.05-07:51:42') #tnet"
   ]
  },
  {
   "cell_type": "code",
   "execution_count": 48,
   "metadata": {},
   "outputs": [
    {
     "output_type": "stream",
     "name": "stdout",
     "text": [
      "(0.8117647058823529, 0.5617989417989419)\n"
     ]
    }
   ],
   "source": [
    "tt('test__2020.11.05-07:52:56') #Cabasc"
   ]
  },
  {
   "cell_type": "code",
   "execution_count": 49,
   "metadata": {},
   "outputs": [
    {
     "output_type": "stream",
     "name": "stdout",
     "text": [
      "(0.8235294117647058, 0.5699989353774088)\n"
     ]
    }
   ],
   "source": [
    "tt('test__2020.11.05-07:55:23') #memnet有问题"
   ]
  },
  {
   "cell_type": "code",
   "execution_count": null,
   "metadata": {},
   "outputs": [],
   "source": [
    "test_path = 'test__2020.11.05-02:48:54'test__2020.11.05-03:36:33"
   ]
  }
 ]
}