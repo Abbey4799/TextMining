{
 "cells": [
  {
   "cell_type": "code",
   "execution_count": 1,
   "metadata": {},
   "outputs": [],
   "source": [
    "import requests\n",
    "from requests.exceptions import RequestException\n",
    "import json\n",
    "import pymongo\n",
    "import time\n",
    "import re\n",
    "import bs4\n",
    "import threading\n",
    "import numpy as np\n",
    "from matplotlib import font_manager as fm\n",
    "import matplotlib.pyplot as plt\n",
    "from  matplotlib import cm\n",
    "import seaborn as sns\n",
    "import copy"
   ]
  },
  {
   "cell_type": "code",
   "execution_count": 12,
   "metadata": {},
   "outputs": [],
   "source": [
    "if __name__=='__main__':\n",
    "    #login in the DB mongo\n",
    "    client = pymongo.MongoClient(host='localhost', port=27017)\n",
    "    db = client.review\n",
    "    collection = db.deal\n",
    "    new_collection = db.combine"
   ]
  },
  {
   "cell_type": "markdown",
   "metadata": {},
   "source": [
    "## 合并前绘图"
   ]
  },
  {
   "cell_type": "code",
   "execution_count": 3,
   "metadata": {},
   "outputs": [
    {
     "name": "stderr",
     "output_type": "stream",
     "text": [
      "/root/anaconda3/lib/python3.7/site-packages/ipykernel_launcher.py:1: DeprecationWarning: count is deprecated. Use estimated_document_count or count_documents instead. Please note that $where must be replaced by $expr, $near must be replaced by $geoWithin with $center, and $nearSphere must be replaced by $geoWithin with $centerSphere\n",
      "  \"\"\"Entry point for launching an IPython kernel.\n"
     ]
    },
    {
     "data": {
      "text/plain": [
       "3791"
      ]
     },
     "execution_count": 3,
     "metadata": {},
     "output_type": "execute_result"
    }
   ],
   "source": [
    "collection.count()"
   ]
  },
  {
   "cell_type": "code",
   "execution_count": 7,
   "metadata": {},
   "outputs": [],
   "source": [
    "mode = [\"pstcmt\" ,\"ngtcmt\",\"pstcmt_cut\",\"ngtcmt_cut\",\"pstcmt_without_stopwords\",\"ngtcmt_without_stopwords\" ]"
   ]
  },
  {
   "cell_type": "code",
   "execution_count": 15,
   "metadata": {},
   "outputs": [
    {
     "name": "stderr",
     "output_type": "stream",
     "text": [
      "/root/anaconda3/lib/python3.7/site-packages/ipykernel_launcher.py:10: DeprecationWarning: update is deprecated. Use replace_one, update_one or update_many instead.\n",
      "  # Remove the CWD from sys.path while we load stuff.\n"
     ]
    }
   ],
   "source": [
    "arr = collection.find()\n",
    "for item in arr:\n",
    "    new_item = {}\n",
    "#     new_item[\"ClassAlias\"] = item[\"ClassAlias\"] \n",
    "#     new_item[\"ClassName\"] = item[\"ClassName\"]\n",
    "#     new_item[\"TeachaerName\"] = item[\"TeachaerName\"]\n",
    "    for name in mode:\n",
    "        tmp = list(set(item[name]))\n",
    "        new_item[name] = tmp\n",
    "    collection.update(item,new_item)"
   ]
  },
  {
   "cell_type": "code",
   "execution_count": 10,
   "metadata": {},
   "outputs": [
    {
     "name": "stdout",
     "output_type": "stream",
     "text": [
      "{'$set': {'pstcmt': ['老师亲切 讨论热烈 ', '课程内容综合性强，讲解引人入胜，老师十分耐心 ', '对程老师的教学认真态度非常满意 ']}}\n",
      "{'$set': {'ngtcmt': ['无 ', '没有意见 ']}}\n",
      "{'$set': {'pstcmt_cut': ['对程 老师 的 教学 认真 态度 非常 满意  ', '课程内容 综合性 强 ， 讲解 引人入胜 ， 老师 十分 耐心  ', '老师 亲切   讨论 热烈  ']}}\n",
      "{'$set': {'ngtcmt_cut': ['无  ', '没有 意见  ']}}\n",
      "{'$set': {'pstcmt_without_stopwords': ['课程内容 综合性 强 讲解 引人入胜 老师 耐心  ', '老师 亲切   讨论 热烈  ', '对程 老师 教学 态度 满意  ']}}\n",
      "{'$set': {'ngtcmt_without_stopwords': ['意见  ', ' ']}}\n"
     ]
    }
   ],
   "source": [
    "a = {\n",
    "        \"ClassAlias\" : \"PHAR130075.01\",\n",
    "        \"ClassName\" : \"药理学专题讨论\",\n",
    "        \"TeachaerName\" : \"程能能\",\n",
    "        \"pstcmt\" : [\n",
    "                \"对程老师的教学认真态度非常满意 \",\n",
    "                \"老师亲切 讨论热烈 \",\n",
    "                \"课程内容综合性强，讲解引人入胜，老师十分耐心 \",\n",
    "                \"课程内容综合性强，讲解引人入胜，老师十分耐心 \"\n",
    "        ],\n",
    "        \"ngtcmt\" : [\n",
    "                \"没有意见 \",\n",
    "                \"无 \",\n",
    "                \"无 \"\n",
    "        ],\n",
    "        \"pstcmt_cut\" : [\n",
    "                \"对程 老师 的 教学 认真 态度 非常 满意  \",\n",
    "                \"老师 亲切   讨论 热烈  \",\n",
    "                \"课程内容 综合性 强 ， 讲解 引人入胜 ， 老师 十分 耐心  \",\n",
    "                \"课程内容 综合性 强 ， 讲解 引人入胜 ， 老师 十分 耐心  \"\n",
    "        ],\n",
    "        \"ngtcmt_cut\" : [\n",
    "                \"没有 意见  \",\n",
    "                \"无  \",\n",
    "                \"无  \"\n",
    "        ],\n",
    "        \"pstcmt_without_stopwords\" : [\n",
    "                \"对程 老师 教学 态度 满意  \",\n",
    "                \"老师 亲切   讨论 热烈  \",\n",
    "                \"课程内容 综合性 强 讲解 引人入胜 老师 耐心  \",\n",
    "                \"课程内容 综合性 强 讲解 引人入胜 老师 耐心  \"\n",
    "        ],\n",
    "        \"ngtcmt_without_stopwords\" : [\n",
    "                \"意见  \",\n",
    "                \" \",\n",
    "                \" \"\n",
    "        ]\n",
    "}\n",
    "\n",
    "for name in mode:\n",
    "    tmp = list(set(a[name]))\n",
    "    newvalues = { \"$set\": { name: tmp } }\n",
    "    print(newvalues)"
   ]
  },
  {
   "cell_type": "code",
   "execution_count": null,
   "metadata": {},
   "outputs": [],
   "source": []
  },
  {
   "cell_type": "code",
   "execution_count": 6,
   "metadata": {},
   "outputs": [
    {
     "name": "stdout",
     "output_type": "stream",
     "text": [
      "['我 爱中国']\n"
     ]
    }
   ],
   "source": [
    "lst1 = [\"我 爱中国\", \"我 爱中国\"]\n",
    "lst2 = list(set(lst1))\n",
    "print(lst2)"
   ]
  },
  {
   "cell_type": "code",
   "execution_count": null,
   "metadata": {},
   "outputs": [],
   "source": []
  }
 ],
 "metadata": {
  "kernelspec": {
   "display_name": "Python 3",
   "language": "python",
   "name": "python3"
  },
  "language_info": {
   "codemirror_mode": {
    "name": "ipython",
    "version": 3
   },
   "file_extension": ".py",
   "mimetype": "text/x-python",
   "name": "python",
   "nbconvert_exporter": "python",
   "pygments_lexer": "ipython3",
   "version": "3.7.3"
  }
 },
 "nbformat": 4,
 "nbformat_minor": 2
}
