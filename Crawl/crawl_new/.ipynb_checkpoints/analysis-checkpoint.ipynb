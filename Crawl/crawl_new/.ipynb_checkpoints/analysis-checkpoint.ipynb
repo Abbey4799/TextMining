{
 "cells": [
  {
   "cell_type": "code",
   "execution_count": 102,
   "metadata": {},
   "outputs": [],
   "source": [
    "import requests\n",
    "from requests.exceptions import RequestException\n",
    "import json\n",
    "import pymongo\n",
    "import time\n",
    "import re\n",
    "import bs4\n",
    "import threading\n",
    "import numpy as np\n",
    "from matplotlib import font_manager as fm\n",
    "import matplotlib.pyplot as plt\n",
    "from  matplotlib import cm\n",
    "import seaborn as sns\n",
    "import copy"
   ]
  },
  {
   "cell_type": "code",
   "execution_count": 103,
   "metadata": {},
   "outputs": [],
   "source": [
    "if __name__=='__main__':\n",
    "    #login in the DB mongo\n",
    "    client = pymongo.MongoClient(host='localhost', port=27017)\n",
    "    db = client.review\n",
    "    collection = db.rawdata"
   ]
  },
  {
   "cell_type": "code",
   "execution_count": 109,
   "metadata": {},
   "outputs": [
    {
     "name": "stderr",
     "output_type": "stream",
     "text": [
      "/anaconda3/lib/python3.7/site-packages/ipykernel_launcher.py:1: DeprecationWarning: count is deprecated. Use estimated_document_count or count_documents instead. Please note that $where must be replaced by $expr, $near must be replaced by $geoWithin with $center, and $nearSphere must be replaced by $geoWithin with $centerSphere\n",
      "  \"\"\"Entry point for launching an IPython kernel.\n"
     ]
    },
    {
     "data": {
      "text/plain": [
       "13384"
      ]
     },
     "execution_count": 109,
     "metadata": {},
     "output_type": "execute_result"
    }
   ],
   "source": [
    "collection.count()"
   ]
  },
  {
   "cell_type": "code",
   "execution_count": 117,
   "metadata": {},
   "outputs": [
    {
     "name": "stderr",
     "output_type": "stream",
     "text": [
      "/anaconda3/lib/python3.7/site-packages/ipykernel_launcher.py:1: DeprecationWarning: count is deprecated. Use estimated_document_count or count_documents instead. Please note that $where must be replaced by $expr, $near must be replaced by $geoWithin with $center, and $nearSphere must be replaced by $geoWithin with $centerSphere\n",
      "  \"\"\"Entry point for launching an IPython kernel.\n"
     ]
    },
    {
     "name": "stdout",
     "output_type": "stream",
     "text": [
      "{'_id': ObjectId('5f0dae0f7554df8ce67dddbf'), 'ClassAlias': 'MED130003.07', 'ClassName': '组织胚胎学B', 'TeachaerName': '周国民', 'pstcmt': ['满意 ', '满意 ', '老师对待教学认真负责，语言生动，条理清晰，举例充分恰当，对待学生严格要求，能够鼓励学生踊跃发言，使课堂气氛比较积极热烈。 ', '老师讲的比较容易理解 ', '好 ', '无 ', '上课生动有趣 ', '知识量大，老师负责 ', '老师们很有心，热情，讲的很仔细 ', '满意 ', '满意 ', '老师对待教学认真负责，语言生动，条理清晰，举例充分恰当，对待学生严格要求，能够鼓励学生踊跃发言，使课堂气氛比较积极热烈。 ', '老师讲的比较容易理解 ', '好 ', '无 ', '上课生动有趣 ', '知识量大，老师负责 ', '老师们很有心，热情，讲的很仔细 ', '好 ', '老师很棒 ', '满意 ', '实验课不错 ', '啥都好 ', '不错不错 ', '不错不错 ', '老师教的很好 ', '无 ', '清晰 ', '清晰 ', '满意 ', '满意 ', '满意 ', '满意 ', '教师的教学风格、教师的水平、课程内容、授课形式 ', '内容范围广，中英文结合教学。 ', '陈红、刘琼老师大赞！！！！！ ', '陈红、刘琼老师大赞！！！！！ ', '满意 ', '试验和理论分开这种方式感觉很好 ', '暂无 ', '挺好的 ', '好好好好好好 ', '好好好好好好 ', '满意 ', '满意 ', '老师对待教学认真负责，语言生动，条理清晰，举例充分恰当，对待学生严格要求，能够鼓励学生踊跃发言，使课堂气氛比较积极热烈。 ', '老师讲的比较容易理解 ', '好 ', '无 ', '上课生动有趣 ', '知识量大，老师负责 ', '老师们很有心，热情，讲的很仔细 ', '好 ', '老师很棒 ', '满意 ', '实验课不错 ', '啥都好 ', '不错不错 ', '不错不错 ', '老师教的很好 ', '无 ', '清晰 ', '清晰 ', '教师的教学风格、教师的水平、课程内容、授课形式 ', '内容范围广，中英文结合教学。 ', '教师的教学风格、教师的水平、课程内容、授课形式 ', '内容范围广，中英文结合教学。 ', '陈红、刘琼老师大赞！！！！！ ', '陈红、刘琼老师大赞！！！！！ ', '满意 ', '试验和理论分开这种方式感觉很好 ', '暂无 ', '挺好的 ', '好好好好好好 ', '好好好好好好 ', '满意 ', '满意 ', '老师对待教学认真负责，语言生动，条理清晰，举例充分恰当，对待学生严格要求，能够鼓励学生踊跃发言，使课堂气氛比较积极热烈。 ', '老师讲的比较容易理解 ', '好 ', '无 ', '上课生动有趣 ', '知识量大，老师负责 ', '老师们很有心，热情，讲的很仔细 ', '好 ', '老师很棒 ', '满意 ', '实验课不错 ', '啥都好 ', '不错不错 ', '不错不错 ', '老师教的很好 ', '无 ', '清晰 ', '清晰 ', '满意 ', '满意 ', '满意 ', '满意 ', '教师的教学风格、教师的水平、课程内容、授课形式 ', '内容范围广，中英文结合教学。 ', '陈红、刘琼老师大赞！！！！！ ', '陈红、刘琼老师大赞！！！！！ ', '满意 ', '试验和理论分开这种方式感觉很好 ', '暂无 ', '挺好的 ', '好好好好好好 ', '好好好好好好 ', '满意 ', '满意 ', '老师对待教学认真负责，语言生动，条理清晰，举例充分恰当，对待学生严格要求，能够鼓励学生踊跃发言，使课堂气氛比较积极热烈。 ', '老师讲的比较容易理解 ', '好 ', '无 ', '上课生动有趣 ', '知识量大，老师负责 ', '老师们很有心，热情，讲的很仔细 ', '好 ', '老师很棒 ', '满意 ', '实验课不错 ', '啥都好 ', '不错不错 ', '不错不错 ', '老师教的很好 ', '无 ', '清晰 ', '清晰 ', '陈红、刘琼老师大赞！！！！！ ', '陈红、刘琼老师大赞！！！！！ ', '满意 ', '陈红、刘琼老师大赞！！！！！ ', '陈红、刘琼老师大赞！！！！！ ', '满意 ', '试验和理论分开这种方式感觉很好 ', '暂无 ', '挺好的 ', '好好好好好好 ', '好好好好好好 ', '满意 ', '满意 ', '老师对待教学认真负责，语言生动，条理清晰，举例充分恰当，对待学生严格要求，能够鼓励学生踊跃发言，使课堂气氛比较积极热烈。 ', '老师讲的比较容易理解 ', '好 ', '无 ', '上课生动有趣 ', '知识量大，老师负责 ', '老师们很有心，热情，讲的很仔细 ', '好 ', '老师很棒 ', '满意 ', '实验课不错 ', '啥都好 ', '不错不错 ', '不错不错 ', '老师教的很好 ', '无 ', '清晰 ', '清晰 ', '满意 ', '满意 ', '满意 ', '满意 ', '教师的教学风格、教师的水平、课程内容、授课形式 ', '内容范围广，中英文结合教学。 ', '陈红、刘琼老师大赞！！！！！ ', '陈红、刘琼老师大赞！！！！！ ', '满意 ', '试验和理论分开这种方式感觉很好 ', '暂无 ', '挺好的 ', '好好好好好好 ', '好好好好好好 ', '满意 ', '满意 ', '老师对待教学认真负责，语言生动，条理清晰，举例充分恰当，对待学生严格要求，能够鼓励学生踊跃发言，使课堂气氛比较积极热烈。 ', '老师讲的比较容易理解 ', '好 ', '无 ', '上课生动有趣 ', '知识量大，老师负责 ', '老师们很有心，热情，讲的很仔细 ', '好 ', '老师很棒 ', '满意 ', '实验课不错 ', '啥都好 ', '不错不错 ', '不错不错 ', '老师教的很好 ', '无 ', '清晰 ', '清晰 ', '教师的教学风格、教师的水平、课程内容、授课形式 ', '内容范围广，中英文结合教学。 ', '教师的教学风格、教师的水平、课程内容、授课形式 ', '内容范围广，中英文结合教学。 ', '陈红、刘琼老师大赞！！！！！ ', '陈红、刘琼老师大赞！！！！！ ', '满意 ', '试验和理论分开这种方式感觉很好 ', '暂无 ', '挺好的 ', '好好好好好好 ', '好好好好好好 ', '满意 ', '满意 ', '老师对待教学认真负责，语言生动，条理清晰，举例充分恰当，对待学生严格要求，能够鼓励学生踊跃发言，使课堂气氛比较积极热烈。 ', '老师讲的比较容易理解 ', '好 ', '无 ', '上课生动有趣 ', '知识量大，老师负责 ', '老师们很有心，热情，讲的很仔细 ', '好 ', '老师很棒 ', '满意 ', '实验课不错 ', '啥都好 ', '不错不错 ', '不错不错 ', '老师教的很好 ', '无 ', '清晰 ', '清晰 ', '满意 ', '满意 ', '满意 ', '满意 ', '教师的教学风格、教师的水平、课程内容、授课形式 ', '内容范围广，中英文结合教学。 ', '陈红、刘琼老师大赞！！！！！ ', '陈红、刘琼老师大赞！！！！！ ', '满意 ', '试验和理论分开这种方式感觉很好 ', '暂无 ', '挺好的 ', '好好好好好好 ', '好好好好好好 ', '满意 ', '满意 ', '老师对待教学认真负责，语言生动，条理清晰，举例充分恰当，对待学生严格要求，能够鼓励学生踊跃发言，使课堂气氛比较积极热烈。 ', '老师讲的比较容易理解 ', '好 ', '无 ', '上课生动有趣 ', '知识量大，老师负责 ', '老师们很有心，热情，讲的很仔细 ', '好 ', '老师很棒 ', '满意 ', '实验课不错 ', '啥都好 ', '不错不错 ', '不错不错 ', '老师教的很好 ', '无 ', '清晰 ', '清晰 ', '试验和理论分开这种方式感觉很好 ', '暂无 ', '挺好的 ', '试验和理论分开这种方式感觉很好 ', '暂无 ', '挺好的 ', '好好好好好好 ', '好好好好好好 ', '满意 ', '满意 ', '老师对待教学认真负责，语言生动，条理清晰，举例充分恰当，对待学生严格要求，能够鼓励学生踊跃发言，使课堂气氛比较积极热烈。 ', '老师讲的比较容易理解 ', '好 ', '无 ', '上课生动有趣 ', '知识量大，老师负责 ', '老师们很有心，热情，讲的很仔细 ', '好 ', '老师很棒 ', '满意 ', '实验课不错 ', '啥都好 ', '不错不错 ', '不错不错 ', '老师教的很好 ', '无 ', '清晰 ', '清晰 ', '满意 ', '满意 ', '满意 ', '满意 ', '教师的教学风格、教师的水平、课程内容、授课形式 ', '内容范围广，中英文结合教学。 ', '陈红、刘琼老师大赞！！！！！ ', '陈红、刘琼老师大赞！！！！！ ', '满意 ', '试验和理论分开这种方式感觉很好 ', '暂无 ', '挺好的 ', '好好好好好好 ', '好好好好好好 ', '满意 ', '满意 ', '老师对待教学认真负责，语言生动，条理清晰，举例充分恰当，对待学生严格要求，能够鼓励学生踊跃发言，使课堂气氛比较积极热烈。 ', '老师讲的比较容易理解 ', '好 ', '无 ', '上课生动有趣 ', '知识量大，老师负责 ', '老师们很有心，热情，讲的很仔细 ', '好 ', '老师很棒 ', '满意 ', '实验课不错 ', '啥都好 ', '不错不错 ', '不错不错 ', '老师教的很好 ', '无 ', '清晰 ', '清晰 ', '教师的教学风格、教师的水平、课程内容、授课形式 ', '内容范围广，中英文结合教学。 ', '教师的教学风格、教师的水平、课程内容、授课形式 ', '内容范围广，中英文结合教学。 ', '陈红、刘琼老师大赞！！！！！ ', '陈红、刘琼老师大赞！！！！！ ', '满意 ', '试验和理论分开这种方式感觉很好 ', '暂无 ', '挺好的 ', '好好好好好好 ', '好好好好好好 ', '满意 ', '满意 ', '老师对待教学认真负责，语言生动，条理清晰，举例充分恰当，对待学生严格要求，能够鼓励学生踊跃发言，使课堂气氛比较积极热烈。 ', '老师讲的比较容易理解 ', '好 ', '无 ', '上课生动有趣 ', '知识量大，老师负责 ', '老师们很有心，热情，讲的很仔细 ', '好 ', '老师很棒 ', '满意 ', '实验课不错 ', '啥都好 ', '不错不错 ', '不错不错 ', '老师教的很好 ', '无 ', '清晰 ', '清晰 ', '满意 ', '满意 ', '满意 ', '满意 ', '教师的教学风格、教师的水平、课程内容、授课形式 ', '内容范围广，中英文结合教学。 ', '陈红、刘琼老师大赞！！！！！ ', '陈红、刘琼老师大赞！！！！！ ', '满意 ', '试验和理论分开这种方式感觉很好 ', '暂无 ', '挺好的 ', '好好好好好好 ', '好好好好好好 ', '满意 ', '满意 ', '老师对待教学认真负责，语言生动，条理清晰，举例充分恰当，对待学生严格要求，能够鼓励学生踊跃发言，使课堂气氛比较积极热烈。 ', '老师讲的比较容易理解 ', '好 ', '无 ', '上课生动有趣 ', '知识量大，老师负责 ', '老师们很有心，热情，讲的很仔细 ', '好 ', '老师很棒 ', '满意 ', '实验课不错 ', '啥都好 ', '不错不错 ', '不错不错 ', '老师教的很好 ', '无 ', '清晰 ', '清晰 ', '陈红、刘琼老师大赞！！！！！ ', '陈红、刘琼老师大赞！！！！！ ', '满意 ', '陈红、刘琼老师大赞！！！！！ ', '陈红、刘琼老师大赞！！！！！ ', '满意 ', '试验和理论分开这种方式感觉很好 ', '暂无 ', '挺好的 ', '好好好好好好 ', '好好好好好好 ', '满意 ', '满意 ', '老师对待教学认真负责，语言生动，条理清晰，举例充分恰当，对待学生严格要求，能够鼓励学生踊跃发言，使课堂气氛比较积极热烈。 ', '老师讲的比较容易理解 ', '好 ', '无 ', '上课生动有趣 ', '知识量大，老师负责 ', '老师们很有心，热情，讲的很仔细 ', '好 ', '老师很棒 ', '满意 ', '实验课不错 ', '啥都好 ', '不错不错 ', '不错不错 ', '老师教的很好 ', '无 ', '清晰 ', '清晰 ', '满意 ', '满意 ', '满意 ', '满意 ', '教师的教学风格、教师的水平、课程内容、授课形式 ', '内容范围广，中英文结合教学。 ', '陈红、刘琼老师大赞！！！！！ ', '陈红、刘琼老师大赞！！！！！ ', '满意 ', '试验和理论分开这种方式感觉很好 ', '暂无 ', '挺好的 ', '好好好好好好 ', '好好好好好好 ', '满意 ', '满意 ', '老师对待教学认真负责，语言生动，条理清晰，举例充分恰当，对待学生严格要求，能够鼓励学生踊跃发言，使课堂气氛比较积极热烈。 ', '老师讲的比较容易理解 ', '好 ', '无 ', '上课生动有趣 ', '知识量大，老师负责 ', '老师们很有心，热情，讲的很仔细 ', '好 ', '老师很棒 ', '满意 ', '实验课不错 ', '啥都好 ', '不错不错 ', '不错不错 ', '老师教的很好 ', '无 ', '清晰 ', '清晰 ', '教师的教学风格、教师的水平、课程内容、授课形式 ', '内容范围广，中英文结合教学。 ', '教师的教学风格、教师的水平、课程内容、授课形式 ', '内容范围广，中英文结合教学。 ', '陈红、刘琼老师大赞！！！！！ ', '陈红、刘琼老师大赞！！！！！ ', '满意 ', '试验和理论分开这种方式感觉很好 ', '暂无 ', '挺好的 ', '好好好好好好 ', '好好好好好好 ', '满意 ', '满意 ', '老师对待教学认真负责，语言生动，条理清晰，举例充分恰当，对待学生严格要求，能够鼓励学生踊跃发言，使课堂气氛比较积极热烈。 ', '老师讲的比较容易理解 ', '好 ', '无 ', '上课生动有趣 ', '知识量大，老师负责 ', '老师们很有心，热情，讲的很仔细 ', '好 ', '老师很棒 ', '满意 ', '实验课不错 ', '啥都好 ', '不错不错 ', '不错不错 ', '老师教的很好 ', '无 ', '清晰 ', '清晰 ', '满意 ', '满意 ', '满意 ', '满意 ', '教师的教学风格、教师的水平、课程内容、授课形式 ', '内容范围广，中英文结合教学。 ', '陈红、刘琼老师大赞！！！！！ ', '陈红、刘琼老师大赞！！！！！ ', '满意 ', '试验和理论分开这种方式感觉很好 ', '暂无 ', '挺好的 ', '好好好好好好 ', '好好好好好好 ', '满意 ', '满意 ', '老师对待教学认真负责，语言生动，条理清晰，举例充分恰当，对待学生严格要求，能够鼓励学生踊跃发言，使课堂气氛比较积极热烈。 ', '老师讲的比较容易理解 ', '好 ', '无 ', '上课生动有趣 ', '知识量大，老师负责 ', '老师们很有心，热情，讲的很仔细 ', '好 ', '老师很棒 ', '满意 ', '实验课不错 ', '啥都好 ', '不错不错 ', '不错不错 ', '老师教的很好 ', '无 ', '清晰 ', '清晰 ', '好好好好好好 ', '好好好好好好 ', '好好好好好好 ', '好好好好好好 ', '满意 ', '满意 ', '老师对待教学认真负责，语言生动，条理清晰，举例充分恰当，对待学生严格要求，能够鼓励学生踊跃发言，使课堂气氛比较积极热烈。 ', '老师讲的比较容易理解 ', '好 ', '无 ', '上课生动有趣 ', '知识量大，老师负责 ', '老师们很有心，热情，讲的很仔细 ', '好 ', '老师很棒 ', '满意 ', '实验课不错 ', '啥都好 ', '不错不错 ', '不错不错 ', '老师教的很好 ', '无 ', '清晰 ', '清晰 ', '满意 ', '满意 ', '满意 ', '满意 ', '教师的教学风格、教师的水平、课程内容、授课形式 ', '内容范围广，中英文结合教学。 ', '陈红、刘琼老师大赞！！！！！ ', '陈红、刘琼老师大赞！！！！！ ', '满意 ', '试验和理论分开这种方式感觉很好 ', '暂无 ', '挺好的 ', '好好好好好好 ', '好好好好好好 ', '满意 ', '满意 ', '老师对待教学认真负责，语言生动，条理清晰，举例充分恰当，对待学生严格要求，能够鼓励学生踊跃发言，使课堂气氛比较积极热烈。 ', '老师讲的比较容易理解 ', '好 ', '无 ', '上课生动有趣 ', '知识量大，老师负责 ', '老师们很有心，热情，讲的很仔细 ', '好 ', '老师很棒 ', '满意 ', '实验课不错 ', '啥都好 ', '不错不错 ', '不错不错 ', '老师教的很好 ', '无 ', '清晰 ', '清晰 ', '教师的教学风格、教师的水平、课程内容、授课形式 ', '内容范围广，中英文结合教学。 ', '教师的教学风格、教师的水平、课程内容、授课形式 ', '内容范围广，中英文结合教学。 ', '陈红、刘琼老师大赞！！！！！ ', '陈红、刘琼老师大赞！！！！！ ', '满意 ', '试验和理论分开这种方式感觉很好 ', '暂无 ', '挺好的 ', '好好好好好好 ', '好好好好好好 ', '满意 ', '满意 ', '老师对待教学认真负责，语言生动，条理清晰，举例充分恰当，对待学生严格要求，能够鼓励学生踊跃发言，使课堂气氛比较积极热烈。 ', '老师讲的比较容易理解 ', '好 ', '无 ', '上课生动有趣 ', '知识量大，老师负责 ', '老师们很有心，热情，讲的很仔细 ', '好 ', '老师很棒 ', '满意 ', '实验课不错 ', '啥都好 ', '不错不错 ', '不错不错 ', '老师教的很好 ', '无 ', '清晰 ', '清晰 ', '满意 ', '满意 ', '满意 ', '满意 ', '教师的教学风格、教师的水平、课程内容、授课形式 ', '内容范围广，中英文结合教学。 ', '陈红、刘琼老师大赞！！！！！ ', '陈红、刘琼老师大赞！！！！！ ', '满意 ', '试验和理论分开这种方式感觉很好 ', '暂无 ', '挺好的 ', '好好好好好好 ', '好好好好好好 ', '满意 ', '满意 ', '老师对待教学认真负责，语言生动，条理清晰，举例充分恰当，对待学生严格要求，能够鼓励学生踊跃发言，使课堂气氛比较积极热烈。 ', '老师讲的比较容易理解 ', '好 ', '无 ', '上课生动有趣 ', '知识量大，老师负责 ', '老师们很有心，热情，讲的很仔细 ', '好 ', '老师很棒 ', '满意 ', '实验课不错 ', '啥都好 ', '不错不错 ', '不错不错 ', '老师教的很好 ', '无 ', '清晰 ', '清晰 ', '陈红、刘琼老师大赞！！！！！ ', '陈红、刘琼老师大赞！！！！！ ', '满意 ', '陈红、刘琼老师大赞！！！！！ ', '陈红、刘琼老师大赞！！！！！ ', '满意 ', '试验和理论分开这种方式感觉很好 ', '暂无 ', '挺好的 ', '好好好好好好 ', '好好好好好好 ', '满意 ', '满意 ', '老师对待教学认真负责，语言生动，条理清晰，举例充分恰当，对待学生严格要求，能够鼓励学生踊跃发言，使课堂气氛比较积极热烈。 ', '老师讲的比较容易理解 ', '好 ', '无 ', '上课生动有趣 ', '知识量大，老师负责 ', '老师们很有心，热情，讲的很仔细 ', '好 ', '老师很棒 ', '满意 ', '实验课不错 ', '啥都好 ', '不错不错 ', '不错不错 ', '老师教的很好 ', '无 ', '清晰 ', '清晰 ', '满意 ', '满意 ', '满意 ', '满意 ', '教师的教学风格、教师的水平、课程内容、授课形式 ', '内容范围广，中英文结合教学。 ', '陈红、刘琼老师大赞！！！！！ ', '陈红、刘琼老师大赞！！！！！ ', '满意 ', '试验和理论分开这种方式感觉很好 ', '暂无 ', '挺好的 ', '好好好好好好 ', '好好好好好好 ', '满意 ', '满意 ', '老师对待教学认真负责，语言生动，条理清晰，举例充分恰当，对待学生严格要求，能够鼓励学生踊跃发言，使课堂气氛比较积极热烈。 ', '老师讲的比较容易理解 ', '好 ', '无 ', '上课生动有趣 ', '知识量大，老师负责 ', '老师们很有心，热情，讲的很仔细 ', '好 ', '老师很棒 ', '满意 ', '实验课不错 ', '啥都好 ', '不错不错 ', '不错不错 ', '老师教的很好 ', '无 ', '清晰 ', '清晰 ', '教师的教学风格、教师的水平、课程内容、授课形式 ', '内容范围广，中英文结合教学。 ', '教师的教学风格、教师的水平、课程内容、授课形式 ', '内容范围广，中英文结合教学。 ', '陈红、刘琼老师大赞！！！！！ ', '陈红、刘琼老师大赞！！！！！ ', '满意 ', '试验和理论分开这种方式感觉很好 ', '暂无 ', '挺好的 ', '好好好好好好 ', '好好好好好好 ', '满意 ', '满意 ', '老师对待教学认真负责，语言生动，条理清晰，举例充分恰当，对待学生严格要求，能够鼓励学生踊跃发言，使课堂气氛比较积极热烈。 ', '老师讲的比较容易理解 ', '好 ', '无 ', '上课生动有趣 ', '知识量大，老师负责 ', '老师们很有心，热情，讲的很仔细 ', '好 ', '老师很棒 ', '满意 ', '实验课不错 ', '啥都好 ', '不错不错 ', '不错不错 ', '老师教的很好 ', '无 ', '清晰 ', '清晰 ', '满意 ', '满意 ', '满意 ', '满意 ', '教师的教学风格、教师的水平、课程内容、授课形式 ', '内容范围广，中英文结合教学。 ', '陈红、刘琼老师大赞！！！！！ ', '陈红、刘琼老师大赞！！！！！ ', '满意 ', '试验和理论分开这种方式感觉很好 ', '暂无 ', '挺好的 ', '好好好好好好 ', '好好好好好好 ', '满意 ', '满意 ', '老师对待教学认真负责，语言生动，条理清晰，举例充分恰当，对待学生严格要求，能够鼓励学生踊跃发言，使课堂气氛比较积极热烈。 ', '老师讲的比较容易理解 ', '好 ', '无 ', '上课生动有趣 ', '知识量大，老师负责 ', '老师们很有心，热情，讲的很仔细 ', '好 ', '老师很棒 ', '满意 ', '实验课不错 ', '啥都好 ', '不错不错 ', '不错不错 ', '老师教的很好 ', '无 ', '清晰 ', '清晰 ', '试验和理论分开这种方式感觉很好 ', '暂无 ', '挺好的 ', '试验和理论分开这种方式感觉很好 ', '暂无 ', '挺好的 ', '好好好好好好 ', '好好好好好好 ', '满意 ', '满意 ', '老师对待教学认真负责，语言生动，条理清晰，举例充分恰当，对待学生严格要求，能够鼓励学生踊跃发言，使课堂气氛比较积极热烈。 ', '老师讲的比较容易理解 ', '好 ', '无 ', '上课生动有趣 ', '知识量大，老师负责 ', '老师们很有心，热情，讲的很仔细 ', '好 ', '老师很棒 ', '满意 ', '实验课不错 ', '啥都好 ', '不错不错 ', '不错不错 ', '老师教的很好 ', '无 ', '清晰 ', '清晰 ', '满意 ', '满意 ', '满意 ', '满意 ', '教师的教学风格、教师的水平、课程内容、授课形式 ', '内容范围广，中英文结合教学。 ', '陈红、刘琼老师大赞！！！！！ ', '陈红、刘琼老师大赞！！！！！ ', '满意 ', '试验和理论分开这种方式感觉很好 ', '暂无 ', '挺好的 ', '好好好好好好 ', '好好好好好好 ', '满意 ', '满意 ', '老师对待教学认真负责，语言生动，条理清晰，举例充分恰当，对待学生严格要求，能够鼓励学生踊跃发言，使课堂气氛比较积极热烈。 ', '老师讲的比较容易理解 ', '好 ', '无 ', '上课生动有趣 ', '知识量大，老师负责 ', '老师们很有心，热情，讲的很仔细 ', '好 ', '老师很棒 ', '满意 ', '实验课不错 ', '啥都好 ', '不错不错 ', '不错不错 ', '老师教的很好 ', '无 ', '清晰 ', '清晰 ', '教师的教学风格、教师的水平、课程内容、授课形式 ', '内容范围广，中英文结合教学。 ', '教师的教学风格、教师的水平、课程内容、授课形式 ', '内容范围广，中英文结合教学。 ', '陈红、刘琼老师大赞！！！！！ ', '陈红、刘琼老师大赞！！！！！ ', '满意 ', '试验和理论分开这种方式感觉很好 ', '暂无 ', '挺好的 ', '好好好好好好 ', '好好好好好好 ', '满意 ', '满意 ', '老师对待教学认真负责，语言生动，条理清晰，举例充分恰当，对待学生严格要求，能够鼓励学生踊跃发言，使课堂气氛比较积极热烈。 ', '老师讲的比较容易理解 ', '好 ', '无 ', '上课生动有趣 ', '知识量大，老师负责 ', '老师们很有心，热情，讲的很仔细 ', '好 ', '老师很棒 ', '满意 ', '实验课不错 ', '啥都好 ', '不错不错 ', '不错不错 ', '老师教的很好 ', '无 ', '清晰 ', '清晰 ', '满意 ', '满意 ', '满意 ', '满意 ', '教师的教学风格、教师的水平、课程内容、授课形式 ', '内容范围广，中英文结合教学。 ', '陈红、刘琼老师大赞！！！！！ ', '陈红、刘琼老师大赞！！！！！ ', '满意 ', '试验和理论分开这种方式感觉很好 ', '暂无 ', '挺好的 ', '好好好好好好 ', '好好好好好好 ', '满意 ', '满意 ', '老师对待教学认真负责，语言生动，条理清晰，举例充分恰当，对待学生严格要求，能够鼓励学生踊跃发言，使课堂气氛比较积极热烈。 ', '老师讲的比较容易理解 ', '好 ', '无 ', '上课生动有趣 ', '知识量大，老师负责 ', '老师们很有心，热情，讲的很仔细 ', '好 ', '老师很棒 ', '满意 ', '实验课不错 ', '啥都好 ', '不错不错 ', '不错不错 ', '老师教的很好 ', '无 ', '清晰 ', '清晰 ', '陈红、刘琼老师大赞！！！！！ ', '陈红、刘琼老师大赞！！！！！ ', '满意 ', '陈红、刘琼老师大赞！！！！！ ', '陈红、刘琼老师大赞！！！！！ ', '满意 ', '试验和理论分开这种方式感觉很好 ', '暂无 ', '挺好的 ', '好好好好好好 ', '好好好好好好 ', '满意 ', '满意 ', '老师对待教学认真负责，语言生动，条理清晰，举例充分恰当，对待学生严格要求，能够鼓励学生踊跃发言，使课堂气氛比较积极热烈。 ', '老师讲的比较容易理解 ', '好 ', '无 ', '上课生动有趣 ', '知识量大，老师负责 ', '老师们很有心，热情，讲的很仔细 ', '好 ', '老师很棒 ', '满意 ', '实验课不错 ', '啥都好 ', '不错不错 ', '不错不错 ', '老师教的很好 ', '无 ', '清晰 ', '清晰 ', '满意 ', '满意 ', '满意 ', '满意 ', '教师的教学风格、教师的水平、课程内容、授课形式 ', '内容范围广，中英文结合教学。 ', '陈红、刘琼老师大赞！！！！！ ', '陈红、刘琼老师大赞！！！！！ ', '满意 ', '试验和理论分开这种方式感觉很好 ', '暂无 ', '挺好的 ', '好好好好好好 ', '好好好好好好 ', '满意 ', '满意 ', '老师对待教学认真负责，语言生动，条理清晰，举例充分恰当，对待学生严格要求，能够鼓励学生踊跃发言，使课堂气氛比较积极热烈。 ', '老师讲的比较容易理解 ', '好 ', '无 ', '上课生动有趣 ', '知识量大，老师负责 ', '老师们很有心，热情，讲的很仔细 ', '好 ', '老师很棒 ', '满意 ', '实验课不错 ', '啥都好 ', '不错不错 ', '不错不错 ', '老师教的很好 ', '无 ', '清晰 ', '清晰 ', '教师的教学风格、教师的水平、课程内容、授课形式 ', '内容范围广，中英文结合教学。 ', '教师的教学风格、教师的水平、课程内容、授课形式 ', '内容范围广，中英文结合教学。 ', '陈红、刘琼老师大赞！！！！！ ', '陈红、刘琼老师大赞！！！！！ ', '满意 ', '试验和理论分开这种方式感觉很好 ', '暂无 ', '挺好的 ', '好好好好好好 ', '好好好好好好 ', '满意 ', '满意 ', '老师对待教学认真负责，语言生动，条理清晰，举例充分恰当，对待学生严格要求，能够鼓励学生踊跃发言，使课堂气氛比较积极热烈。 ', '老师讲的比较容易理解 ', '好 ', '无 ', '上课生动有趣 ', '知识量大，老师负责 ', '老师们很有心，热情，讲的很仔细 ', '好 ', '老师很棒 ', '满意 ', '实验课不错 ', '啥都好 ', '不错不错 ', '不错不错 ', '老师教的很好 ', '无 ', '清晰 ', '清晰 ', '满意 ', '满意 ', '满意 ', '满意 ', '教师的教学风格、教师的水平、课程内容、授课形式 ', '内容范围广，中英文结合教学。 ', '陈红、刘琼老师大赞！！！！！ ', '陈红、刘琼老师大赞！！！！！ ', '满意 ', '试验和理论分开这种方式感觉很好 ', '暂无 ', '挺好的 ', '好好好好好好 ', '好好好好好好 ', '满意 ', '满意 ', '老师对待教学认真负责，语言生动，条理清晰，举例充分恰当，对待学生严格要求，能够鼓励学生踊跃发言，使课堂气氛比较积极热烈。 ', '老师讲的比较容易理解 ', '好 ', '无 ', '上课生动有趣 ', '知识量大，老师负责 ', '老师们很有心，热情，讲的很仔细 ', '好 ', '老师很棒 ', '满意 ', '实验课不错 ', '啥都好 ', '不错不错 ', '不错不错 ', '老师教的很好 ', '无 ', '清晰 ', '清晰 '], 'ngtcmt': ['满意 ', '暂无 ', '老师讲解太快了 ', '好 ', '无 ', '无 ', '无 ', '按课本和大纲讲 ', '满意 ', '暂无 ', '老师讲解太快了 ', '好 ', '无 ', '无 ', '无 ', '按课本和大纲讲 ', '好 ', '没 ', '无 ', '课程安排太紧 ', '无 ', '上课老师太多了 ', '上课老师太多了 ', '无 ', '无 ', '无 ', '课程时间太少，进度太快 ', '课程时间太少，进度太快 ', '没有 ', '没有 ', '可以加一个4大基本组织的期中考试，这样期末可以少一点负担。 ', '。。。 ', '无 ', '暂无 ', '无 ', '好好好好好好 ', '满意 ', '暂无 ', '老师讲解太快了 ', '好 ', '无 ', '无 ', '无 ', '按课本和大纲讲 ', '好 ', '没 ', '无 ', '课程安排太紧 ', '无 ', '上课老师太多了 ', '上课老师太多了 ', '无 ', '无 ', '无 ', '没有 ', '没有 ', '可以加一个4大基本组织的期中考试，这样期末可以少一点负担。 ', '没有 ', '没有 ', '可以加一个4大基本组织的期中考试，这样期末可以少一点负担。 ', '。。。 ', '无 ', '暂无 ', '无 ', '好好好好好好 ', '满意 ', '暂无 ', '老师讲解太快了 ', '好 ', '无 ', '无 ', '无 ', '按课本和大纲讲 ', '好 ', '没 ', '无 ', '课程安排太紧 ', '无 ', '上课老师太多了 ', '上课老师太多了 ', '无 ', '无 ', '无 ', '课程时间太少，进度太快 ', '课程时间太少，进度太快 ', '没有 ', '没有 ', '可以加一个4大基本组织的期中考试，这样期末可以少一点负担。 ', '。。。 ', '无 ', '暂无 ', '无 ', '好好好好好好 ', '满意 ', '暂无 ', '老师讲解太快了 ', '好 ', '无 ', '无 ', '无 ', '按课本和大纲讲 ', '好 ', '没 ', '无 ', '课程安排太紧 ', '无 ', '上课老师太多了 ', '上课老师太多了 ', '无 ', '无 ', '无 ', '。。。 ', '。。。 ', '无 ', '暂无 ', '无 ', '好好好好好好 ', '满意 ', '暂无 ', '老师讲解太快了 ', '好 ', '无 ', '无 ', '无 ', '按课本和大纲讲 ', '好 ', '没 ', '无 ', '课程安排太紧 ', '无 ', '上课老师太多了 ', '上课老师太多了 ', '无 ', '无 ', '无 ', '课程时间太少，进度太快 ', '课程时间太少，进度太快 ', '没有 ', '没有 ', '可以加一个4大基本组织的期中考试，这样期末可以少一点负担。 ', '。。。 ', '无 ', '暂无 ', '无 ', '好好好好好好 ', '满意 ', '暂无 ', '老师讲解太快了 ', '好 ', '无 ', '无 ', '无 ', '按课本和大纲讲 ', '好 ', '没 ', '无 ', '课程安排太紧 ', '无 ', '上课老师太多了 ', '上课老师太多了 ', '无 ', '无 ', '无 ', '没有 ', '没有 ', '可以加一个4大基本组织的期中考试，这样期末可以少一点负担。 ', '没有 ', '没有 ', '可以加一个4大基本组织的期中考试，这样期末可以少一点负担。 ', '。。。 ', '无 ', '暂无 ', '无 ', '好好好好好好 ', '满意 ', '暂无 ', '老师讲解太快了 ', '好 ', '无 ', '无 ', '无 ', '按课本和大纲讲 ', '好 ', '没 ', '无 ', '课程安排太紧 ', '无 ', '上课老师太多了 ', '上课老师太多了 ', '无 ', '无 ', '无 ', '课程时间太少，进度太快 ', '课程时间太少，进度太快 ', '没有 ', '没有 ', '可以加一个4大基本组织的期中考试，这样期末可以少一点负担。 ', '。。。 ', '无 ', '暂无 ', '无 ', '好好好好好好 ', '满意 ', '暂无 ', '老师讲解太快了 ', '好 ', '无 ', '无 ', '无 ', '按课本和大纲讲 ', '好 ', '没 ', '无 ', '课程安排太紧 ', '无 ', '上课老师太多了 ', '上课老师太多了 ', '无 ', '无 ', '无 ', '无 ', '暂无 ', '无 ', '无 ', '暂无 ', '无 ', '好好好好好好 ', '满意 ', '暂无 ', '老师讲解太快了 ', '好 ', '无 ', '无 ', '无 ', '按课本和大纲讲 ', '好 ', '没 ', '无 ', '课程安排太紧 ', '无 ', '上课老师太多了 ', '上课老师太多了 ', '无 ', '无 ', '无 ', '课程时间太少，进度太快 ', '课程时间太少，进度太快 ', '没有 ', '没有 ', '可以加一个4大基本组织的期中考试，这样期末可以少一点负担。 ', '。。。 ', '无 ', '暂无 ', '无 ', '好好好好好好 ', '满意 ', '暂无 ', '老师讲解太快了 ', '好 ', '无 ', '无 ', '无 ', '按课本和大纲讲 ', '好 ', '没 ', '无 ', '课程安排太紧 ', '无 ', '上课老师太多了 ', '上课老师太多了 ', '无 ', '无 ', '无 ', '没有 ', '没有 ', '可以加一个4大基本组织的期中考试，这样期末可以少一点负担。 ', '没有 ', '没有 ', '可以加一个4大基本组织的期中考试，这样期末可以少一点负担。 ', '。。。 ', '无 ', '暂无 ', '无 ', '好好好好好好 ', '满意 ', '暂无 ', '老师讲解太快了 ', '好 ', '无 ', '无 ', '无 ', '按课本和大纲讲 ', '好 ', '没 ', '无 ', '课程安排太紧 ', '无 ', '上课老师太多了 ', '上课老师太多了 ', '无 ', '无 ', '无 ', '课程时间太少，进度太快 ', '课程时间太少，进度太快 ', '没有 ', '没有 ', '可以加一个4大基本组织的期中考试，这样期末可以少一点负担。 ', '。。。 ', '无 ', '暂无 ', '无 ', '好好好好好好 ', '满意 ', '暂无 ', '老师讲解太快了 ', '好 ', '无 ', '无 ', '无 ', '按课本和大纲讲 ', '好 ', '没 ', '无 ', '课程安排太紧 ', '无 ', '上课老师太多了 ', '上课老师太多了 ', '无 ', '无 ', '无 ', '。。。 ', '。。。 ', '无 ', '暂无 ', '无 ', '好好好好好好 ', '满意 ', '暂无 ', '老师讲解太快了 ', '好 ', '无 ', '无 ', '无 ', '按课本和大纲讲 ', '好 ', '没 ', '无 ', '课程安排太紧 ', '无 ', '上课老师太多了 ', '上课老师太多了 ', '无 ', '无 ', '无 ', '课程时间太少，进度太快 ', '课程时间太少，进度太快 ', '没有 ', '没有 ', '可以加一个4大基本组织的期中考试，这样期末可以少一点负担。 ', '。。。 ', '无 ', '暂无 ', '无 ', '好好好好好好 ', '满意 ', '暂无 ', '老师讲解太快了 ', '好 ', '无 ', '无 ', '无 ', '按课本和大纲讲 ', '好 ', '没 ', '无 ', '课程安排太紧 ', '无 ', '上课老师太多了 ', '上课老师太多了 ', '无 ', '无 ', '无 ', '没有 ', '没有 ', '可以加一个4大基本组织的期中考试，这样期末可以少一点负担。 ', '没有 ', '没有 ', '可以加一个4大基本组织的期中考试，这样期末可以少一点负担。 ', '。。。 ', '无 ', '暂无 ', '无 ', '好好好好好好 ', '满意 ', '暂无 ', '老师讲解太快了 ', '好 ', '无 ', '无 ', '无 ', '按课本和大纲讲 ', '好 ', '没 ', '无 ', '课程安排太紧 ', '无 ', '上课老师太多了 ', '上课老师太多了 ', '无 ', '无 ', '无 ', '课程时间太少，进度太快 ', '课程时间太少，进度太快 ', '没有 ', '没有 ', '可以加一个4大基本组织的期中考试，这样期末可以少一点负担。 ', '。。。 ', '无 ', '暂无 ', '无 ', '好好好好好好 ', '满意 ', '暂无 ', '老师讲解太快了 ', '好 ', '无 ', '无 ', '无 ', '按课本和大纲讲 ', '好 ', '没 ', '无 ', '课程安排太紧 ', '无 ', '上课老师太多了 ', '上课老师太多了 ', '无 ', '无 ', '无 ', '好好好好好好 ', '好好好好好好 ', '满意 ', '暂无 ', '老师讲解太快了 ', '好 ', '无 ', '无 ', '无 ', '按课本和大纲讲 ', '好 ', '没 ', '无 ', '课程安排太紧 ', '无 ', '上课老师太多了 ', '上课老师太多了 ', '无 ', '无 ', '无 ', '课程时间太少，进度太快 ', '课程时间太少，进度太快 ', '没有 ', '没有 ', '可以加一个4大基本组织的期中考试，这样期末可以少一点负担。 ', '。。。 ', '无 ', '暂无 ', '无 ', '好好好好好好 ', '满意 ', '暂无 ', '老师讲解太快了 ', '好 ', '无 ', '无 ', '无 ', '按课本和大纲讲 ', '好 ', '没 ', '无 ', '课程安排太紧 ', '无 ', '上课老师太多了 ', '上课老师太多了 ', '无 ', '无 ', '无 ', '没有 ', '没有 ', '可以加一个4大基本组织的期中考试，这样期末可以少一点负担。 ', '没有 ', '没有 ', '可以加一个4大基本组织的期中考试，这样期末可以少一点负担。 ', '。。。 ', '无 ', '暂无 ', '无 ', '好好好好好好 ', '满意 ', '暂无 ', '老师讲解太快了 ', '好 ', '无 ', '无 ', '无 ', '按课本和大纲讲 ', '好 ', '没 ', '无 ', '课程安排太紧 ', '无 ', '上课老师太多了 ', '上课老师太多了 ', '无 ', '无 ', '无 ', '课程时间太少，进度太快 ', '课程时间太少，进度太快 ', '没有 ', '没有 ', '可以加一个4大基本组织的期中考试，这样期末可以少一点负担。 ', '。。。 ', '无 ', '暂无 ', '无 ', '好好好好好好 ', '满意 ', '暂无 ', '老师讲解太快了 ', '好 ', '无 ', '无 ', '无 ', '按课本和大纲讲 ', '好 ', '没 ', '无 ', '课程安排太紧 ', '无 ', '上课老师太多了 ', '上课老师太多了 ', '无 ', '无 ', '无 ', '。。。 ', '。。。 ', '无 ', '暂无 ', '无 ', '好好好好好好 ', '满意 ', '暂无 ', '老师讲解太快了 ', '好 ', '无 ', '无 ', '无 ', '按课本和大纲讲 ', '好 ', '没 ', '无 ', '课程安排太紧 ', '无 ', '上课老师太多了 ', '上课老师太多了 ', '无 ', '无 ', '无 ', '课程时间太少，进度太快 ', '课程时间太少，进度太快 ', '没有 ', '没有 ', '可以加一个4大基本组织的期中考试，这样期末可以少一点负担。 ', '。。。 ', '无 ', '暂无 ', '无 ', '好好好好好好 ', '满意 ', '暂无 ', '老师讲解太快了 ', '好 ', '无 ', '无 ', '无 ', '按课本和大纲讲 ', '好 ', '没 ', '无 ', '课程安排太紧 ', '无 ', '上课老师太多了 ', '上课老师太多了 ', '无 ', '无 ', '无 ', '没有 ', '没有 ', '可以加一个4大基本组织的期中考试，这样期末可以少一点负担。 ', '没有 ', '没有 ', '可以加一个4大基本组织的期中考试，这样期末可以少一点负担。 ', '。。。 ', '无 ', '暂无 ', '无 ', '好好好好好好 ', '满意 ', '暂无 ', '老师讲解太快了 ', '好 ', '无 ', '无 ', '无 ', '按课本和大纲讲 ', '好 ', '没 ', '无 ', '课程安排太紧 ', '无 ', '上课老师太多了 ', '上课老师太多了 ', '无 ', '无 ', '无 ', '课程时间太少，进度太快 ', '课程时间太少，进度太快 ', '没有 ', '没有 ', '可以加一个4大基本组织的期中考试，这样期末可以少一点负担。 ', '。。。 ', '无 ', '暂无 ', '无 ', '好好好好好好 ', '满意 ', '暂无 ', '老师讲解太快了 ', '好 ', '无 ', '无 ', '无 ', '按课本和大纲讲 ', '好 ', '没 ', '无 ', '课程安排太紧 ', '无 ', '上课老师太多了 ', '上课老师太多了 ', '无 ', '无 ', '无 ', '无 ', '暂无 ', '无 ', '无 ', '暂无 ', '无 ', '好好好好好好 ', '满意 ', '暂无 ', '老师讲解太快了 ', '好 ', '无 ', '无 ', '无 ', '按课本和大纲讲 ', '好 ', '没 ', '无 ', '课程安排太紧 ', '无 ', '上课老师太多了 ', '上课老师太多了 ', '无 ', '无 ', '无 ', '课程时间太少，进度太快 ', '课程时间太少，进度太快 ', '没有 ', '没有 ', '可以加一个4大基本组织的期中考试，这样期末可以少一点负担。 ', '。。。 ', '无 ', '暂无 ', '无 ', '好好好好好好 ', '满意 ', '暂无 ', '老师讲解太快了 ', '好 ', '无 ', '无 ', '无 ', '按课本和大纲讲 ', '好 ', '没 ', '无 ', '课程安排太紧 ', '无 ', '上课老师太多了 ', '上课老师太多了 ', '无 ', '无 ', '无 ', '没有 ', '没有 ', '可以加一个4大基本组织的期中考试，这样期末可以少一点负担。 ', '没有 ', '没有 ', '可以加一个4大基本组织的期中考试，这样期末可以少一点负担。 ', '。。。 ', '无 ', '暂无 ', '无 ', '好好好好好好 ', '满意 ', '暂无 ', '老师讲解太快了 ', '好 ', '无 ', '无 ', '无 ', '按课本和大纲讲 ', '好 ', '没 ', '无 ', '课程安排太紧 ', '无 ', '上课老师太多了 ', '上课老师太多了 ', '无 ', '无 ', '无 ', '课程时间太少，进度太快 ', '课程时间太少，进度太快 ', '没有 ', '没有 ', '可以加一个4大基本组织的期中考试，这样期末可以少一点负担。 ', '。。。 ', '无 ', '暂无 ', '无 ', '好好好好好好 ', '满意 ', '暂无 ', '老师讲解太快了 ', '好 ', '无 ', '无 ', '无 ', '按课本和大纲讲 ', '好 ', '没 ', '无 ', '课程安排太紧 ', '无 ', '上课老师太多了 ', '上课老师太多了 ', '无 ', '无 ', '无 ', '。。。 ', '。。。 ', '无 ', '暂无 ', '无 ', '好好好好好好 ', '满意 ', '暂无 ', '老师讲解太快了 ', '好 ', '无 ', '无 ', '无 ', '按课本和大纲讲 ', '好 ', '没 ', '无 ', '课程安排太紧 ', '无 ', '上课老师太多了 ', '上课老师太多了 ', '无 ', '无 ', '无 ', '课程时间太少，进度太快 ', '课程时间太少，进度太快 ', '没有 ', '没有 ', '可以加一个4大基本组织的期中考试，这样期末可以少一点负担。 ', '。。。 ', '无 ', '暂无 ', '无 ', '好好好好好好 ', '满意 ', '暂无 ', '老师讲解太快了 ', '好 ', '无 ', '无 ', '无 ', '按课本和大纲讲 ', '好 ', '没 ', '无 ', '课程安排太紧 ', '无 ', '上课老师太多了 ', '上课老师太多了 ', '无 ', '无 ', '无 ', '没有 ', '没有 ', '可以加一个4大基本组织的期中考试，这样期末可以少一点负担。 ', '没有 ', '没有 ', '可以加一个4大基本组织的期中考试，这样期末可以少一点负担。 ', '。。。 ', '无 ', '暂无 ', '无 ', '好好好好好好 ', '满意 ', '暂无 ', '老师讲解太快了 ', '好 ', '无 ', '无 ', '无 ', '按课本和大纲讲 ', '好 ', '没 ', '无 ', '课程安排太紧 ', '无 ', '上课老师太多了 ', '上课老师太多了 ', '无 ', '无 ', '无 ', '课程时间太少，进度太快 ', '课程时间太少，进度太快 ', '没有 ', '没有 ', '可以加一个4大基本组织的期中考试，这样期末可以少一点负担。 ', '。。。 ', '无 ', '暂无 ', '无 ', '好好好好好好 ', '满意 ', '暂无 ', '老师讲解太快了 ', '好 ', '无 ', '无 ', '无 ', '按课本和大纲讲 ', '好 ', '没 ', '无 ', '课程安排太紧 ', '无 ', '上课老师太多了 ', '上课老师太多了 ', '无 ', '无 ', '无 ']}\n"
     ]
    }
   ],
   "source": [
    "collection.count()\n",
    "arr = collection.find()\n",
    "for item in arr:\n",
    "    if len(item[\"pstcmt\"]) == 1033:\n",
    "        print(item)"
   ]
  },
  {
   "cell_type": "code",
   "execution_count": 137,
   "metadata": {},
   "outputs": [
    {
     "name": "stderr",
     "output_type": "stream",
     "text": [
      "/anaconda3/lib/python3.7/site-packages/ipykernel_launcher.py:1: DeprecationWarning: count is deprecated. Use estimated_document_count or count_documents instead. Please note that $where must be replaced by $expr, $near must be replaced by $geoWithin with $center, and $nearSphere must be replaced by $geoWithin with $centerSphere\n",
      "  \"\"\"Entry point for launching an IPython kernel.\n"
     ]
    },
    {
     "name": "stdout",
     "output_type": "stream",
     "text": [
      "{'4': 1013, '11': 818, '2': 2135, '10': 517, '1': 2264, '7': 631, '3': 1397, '9': 427, '5': 911, '22': 10, '8': 539, '6': 688, '12': 922, '0': 109, '14': 184, '13': 431, '18': 15, '16': 41, '15': 73, '17': 16, '19': 13, '21': 10, '20': 15, '32': 9, '25': 6, '59': 1, '30': 6, '122': 1, '236': 1, '66': 2, '465': 1, '35': 3, '33': 2, '26': 9, '38': 10, '24': 6, '49': 2, '36': 8, '46': 2, '95': 3, '34': 8, '45': 3, '58': 2, '42': 5, '88': 3, '37': 1, '63': 2, '109': 4, '57': 6, '62': 2, '52': 3, '28': 5, '61': 1, '220': 2, '55': 1, '434': 1, '54': 3, '103': 1, '73': 1, '148': 1, '100': 1, '293': 1, '188': 1, '105': 1, '56': 2, '44': 4, '113': 1, '67': 1, '212': 2, '110': 2, '130': 1, '219': 1, '420': 1, '70': 2, '261': 1, '513': 1, '48': 4, '69': 1, '153': 1, '305': 1, '605': 1, '39': 2, '27': 1, '90': 1, '40': 1, '60': 1, '91': 1, '74': 2, '47': 2, '43': 2, '68': 2, '50': 2, '185': 1, '373': 1, '83': 1, '78': 1, '167': 1, '325': 1, '89': 1, '64': 1, '65': 2, '131': 1, '259': 1, '514': 1, '117': 2, '1033': 1, '72': 2, '29': 1, '93': 1, '129': 1, '186': 1, '371': 1, '108': 1, '391': 1, '160': 1, '97': 1, '71': 1, '87': 1, '85': 1}\n",
      "{'3': 1359, '9': 712, '2': 2204, '4': 1189, '1': 3496, '5': 807, '7': 843, '8': 1089, '6': 768, '10': 263, '0': 308, '11': 66, '13': 3, '17': 4, '12': 37, '14': 16, '18': 19, '24': 11, '19': 7, '39': 4, '22': 12, '79': 1, '155': 1, '48': 2, '305': 1, '16': 10, '31': 4, '27': 3, '26': 8, '20': 10, '37': 3, '34': 9, '70': 1, '30': 5, '42': 3, '57': 5, '51': 4, '67': 3, '33': 2, '38': 3, '32': 4, '71': 1, '73': 1, '49': 2, '149': 1, '25': 4, '289': 1, '89': 1, '98': 1, '84': 1, '195': 2, '162': 1, '41': 1, '28': 9, '76': 2, '151': 1, '99': 1, '146': 1, '129': 1, '15': 3, '301': 1, '52': 3, '385': 1, '29': 2, '36': 1, '109': 2, '220': 1, '433': 2, '58': 3, '40': 1, '81': 1, '159': 1, '46': 1, '80': 1, '157': 1, '318': 1, '68': 1, '136': 1, '268': 1, '55': 2, '50': 1, '23': 1, '219': 1, '111': 1, '872': 1, '62': 1, '53': 2, '108': 1, '105': 1, '209': 1, '72': 1, '35': 1, '269': 1, '47': 2, '104': 1, '75': 1, '65': 1, '95': 1, '44': 1, '21': 1}\n"
     ]
    }
   ],
   "source": [
    "collection.count()\n",
    "arr = collection.find()\n",
    "\n",
    "pst_len = {}\n",
    "ngt_len = {}\n",
    "pst_hist = []\n",
    "ngt_hist = []\n",
    "for item in arr:\n",
    "    temp = len(item[\"pstcmt\"])\n",
    "    pst_hist.append(temp)\n",
    "    if str(temp) not in pst_len:\n",
    "        pst_len[str(temp)] = 0\n",
    "    pst_len[str(temp)] += 1\n",
    "    \n",
    "    temp = len(item[\"ngtcmt\"])\n",
    "    ngt_hist.append(temp)\n",
    "    if str(temp) not in ngt_len:\n",
    "        ngt_len[str(temp)] = 0\n",
    "    ngt_len[str(temp)] += 1\n",
    "print(pst_len)\n",
    "print(ngt_len)"
   ]
  },
  {
   "cell_type": "code",
   "execution_count": 134,
   "metadata": {},
   "outputs": [],
   "source": [
    "a = []\n",
    "b = []\n",
    "for i in range(25):\n",
    "    if str(i) in pst_len:\n",
    "        a.append(pst_len[str(i)])\n",
    "    else:\n",
    "        a.append(0)\n",
    "for i in range(25):\n",
    "    if str(i) in ngt_len:\n",
    "        b.append(ngt_len[str(i)])\n",
    "    else:\n",
    "        b.append(0)"
   ]
  },
  {
   "cell_type": "code",
   "execution_count": 135,
   "metadata": {},
   "outputs": [
    {
     "data": {
      "text/plain": [
       "([109,\n",
       "  2264,\n",
       "  2135,\n",
       "  1397,\n",
       "  1013,\n",
       "  911,\n",
       "  688,\n",
       "  631,\n",
       "  539,\n",
       "  427,\n",
       "  517,\n",
       "  818,\n",
       "  922,\n",
       "  431,\n",
       "  184,\n",
       "  73,\n",
       "  41,\n",
       "  16,\n",
       "  15,\n",
       "  13,\n",
       "  15,\n",
       "  10,\n",
       "  10,\n",
       "  0,\n",
       "  6],\n",
       " [308,\n",
       "  3496,\n",
       "  2204,\n",
       "  1359,\n",
       "  1189,\n",
       "  807,\n",
       "  768,\n",
       "  843,\n",
       "  1089,\n",
       "  712,\n",
       "  263,\n",
       "  66,\n",
       "  37,\n",
       "  3,\n",
       "  16,\n",
       "  3,\n",
       "  10,\n",
       "  4,\n",
       "  19,\n",
       "  7,\n",
       "  10,\n",
       "  1,\n",
       "  12,\n",
       "  1,\n",
       "  11])"
      ]
     },
     "execution_count": 135,
     "metadata": {},
     "output_type": "execute_result"
    }
   ],
   "source": [
    "a,b"
   ]
  },
  {
   "cell_type": "code",
   "execution_count": 136,
   "metadata": {},
   "outputs": [
    {
     "data": {
      "image/png": "[encoded data removed]",
      "text/plain": [
       "<Figure size 432x288 with 1 Axes>"
      ]
     },
     "metadata": {
      "needs_background": "light"
     },
     "output_type": "display_data"
    },
    {
     "data": {
      "image/png": "[encoded data removed]",
      "text/plain": [
       "<Figure size 432x288 with 1 Axes>"
      ]
     },
     "metadata": {
      "needs_background": "light"
     },
     "output_type": "display_data"
    }
   ],
   "source": [
    "plt.bar(np.linspace(1,len(a),len(a)), a)\n",
    "plt.xlabel('Num of Postive Reviews',fontsize=20)\n",
    "plt.ylabel('Num of classes',fontsize=20)\n",
    "plt.grid(axis='both')\n",
    "# legend = plt.legend(loc=\"upper left\",fontsize=20) # label的位置在左上，没有这句会找不到label去哪了\n",
    "plt.xticks(fontsize=20)\n",
    "plt.yticks(fontsize=20)\n",
    "plt.show()\n",
    "\n",
    "\n",
    "plt.bar(range(0, len(b)), b)\n",
    "plt.xlabel('Num of Negative Reviews',fontsize=20)\n",
    "plt.ylabel('Num of classes',fontsize=20)\n",
    "plt.grid(axis='both')\n",
    "# legend = plt.legend(loc=\"upper left\",fontsize=20) # label的位置在左上，没有这句会找不到label去哪了\n",
    "plt.xticks(fontsize=20)\n",
    "plt.yticks(fontsize=20)\n",
    "plt.show()"
   ]
  },
  {
   "cell_type": "code",
   "execution_count": 153,
   "metadata": {},
   "outputs": [
    {
     "data": {
      "image/png": "[encoded data removed]",
      "text/plain": [
       "<Figure size 576x288 with 1 Axes>"
      ]
     },
     "metadata": {
      "needs_background": "light"
     },
     "output_type": "display_data"
    },
    {
     "data": {
      "image/png": "[encoded data removed]",
      "text/plain": [
       "<Figure size 576x288 with 1 Axes>"
      ]
     },
     "metadata": {
      "needs_background": "light"
     },
     "output_type": "display_data"
    }
   ],
   "source": [
    "fig, ax = plt.subplots(figsize=(8, 4))\n",
    "bins = 1000000\n",
    "# Overlay a reversed cumulative histogram.\n",
    "ax.hist(pst_hist, bins=bins, density=True, histtype='step', cumulative=True,\n",
    "        label='Reversed emp.')\n",
    "\n",
    "\n",
    "\n",
    "plt.xlim(0, 30)\n",
    "# tidy up the figure\n",
    "ax.grid(True)\n",
    "ax.legend(loc='right')\n",
    "ax.set_title('Postive Review - Cumulative step histograms')\n",
    "ax.set_xlabel('Num of Review')\n",
    "ax.set_ylabel('Num of Courses')\n",
    "\n",
    "plt.show()\n",
    "\n",
    "fig, ax = plt.subplots(figsize=(8, 4))\n",
    "bins = 1000000\n",
    "# Overlay a reversed cumulative histogram.\n",
    "ax.hist(ngt_hist, bins=bins, density=True, histtype='step', cumulative=True,\n",
    "        label='Reversed emp.')\n",
    "\n",
    "\n",
    "\n",
    "plt.xlim(0, 30)\n",
    "# tidy up the figure\n",
    "ax.grid(True)\n",
    "ax.legend(loc='right')\n",
    "ax.set_title('Negative Review - Cumulative step histograms')\n",
    "ax.set_xlabel('Num of Review')\n",
    "ax.set_ylabel('Num of Courses')\n",
    "\n",
    "plt.show()\n",
    "\n"
   ]
  },
  {
   "cell_type": "code",
   "execution_count": 133,
   "metadata": {},
   "outputs": [],
   "source": [
    "# # 合并相同的课程（老师相同）\n",
    "# arr = collection.find()\n",
    "# for item in arr:\n",
    "#     new_item = copy.deepcopy(item)\n",
    "#     fd = {}\n",
    "#     fd['ClassName'] = new_item['ClassName']\n",
    "#     fd['TeachaerName'] = new_item['TeachaerName']\n",
    "#     for item1 in collection.find(fd):\n",
    "#         new_item[\"pstcmt\"] += item1[\"pstcmt\"]\n",
    "#         new_item[\"ngtcmt\"] += item1[\"ngtcmt\"]\n",
    "#     collection.delete_one(fd)\n",
    "#     collection.insert_one(new_item)"
   ]
  },
  {
   "cell_type": "code",
   "execution_count": 101,
   "metadata": {},
   "outputs": [
    {
     "name": "stderr",
     "output_type": "stream",
     "text": [
      "/anaconda3/lib/python3.7/site-packages/ipykernel_launcher.py:1: DeprecationWarning: count is deprecated. Use estimated_document_count or count_documents instead. Please note that $where must be replaced by $expr, $near must be replaced by $geoWithin with $center, and $nearSphere must be replaced by $geoWithin with $centerSphere\n",
      "  \"\"\"Entry point for launching an IPython kernel.\n"
     ]
    },
    {
     "data": {
      "text/plain": [
       "13384"
      ]
     },
     "execution_count": 101,
     "metadata": {},
     "output_type": "execute_result"
    }
   ],
   "source": [
    "collection.count()"
   ]
  },
  {
   "cell_type": "code",
   "execution_count": 43,
   "metadata": {},
   "outputs": [
    {
     "data": {
      "text/plain": [
       "([1, 3], [1, 2])"
      ]
     },
     "execution_count": 43,
     "metadata": {},
     "output_type": "execute_result"
    }
   ],
   "source": [
    "a = [1,2]\n",
    "b = copy.deepcopy(a)\n",
    "a = [1,3]\n",
    "a,b"
   ]
  },
  {
   "cell_type": "code",
   "execution_count": null,
   "metadata": {},
   "outputs": [],
   "source": []
  }
 ],
 "metadata": {
  "kernelspec": {
   "display_name": "Python 3",
   "language": "python",
   "name": "python3"
  },
  "language_info": {
   "codemirror_mode": {
    "name": "ipython",
    "version": 3
   },
   "file_extension": ".py",
   "mimetype": "text/x-python",
   "name": "python",
   "nbconvert_exporter": "python",
   "pygments_lexer": "ipython3",
   "version": "3.7.3"
  }
 },
 "nbformat": 4,
 "nbformat_minor": 2
}
